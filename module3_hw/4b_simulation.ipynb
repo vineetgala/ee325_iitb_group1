{
 "cells": [
  {
   "cell_type": "code",
   "execution_count": 1,
   "metadata": {},
   "outputs": [],
   "source": [
    "import numpy as np\n",
    "import matplotlib.pyplot as plt"
   ]
  },
  {
   "cell_type": "code",
   "execution_count": 2,
   "metadata": {},
   "outputs": [],
   "source": [
    "def get_num():\n",
    "    return np.random.uniform()"
   ]
  },
  {
   "cell_type": "code",
   "execution_count": 3,
   "metadata": {},
   "outputs": [],
   "source": [
    "def get_3_pts():\n",
    "    a = get_num()\n",
    "    b = get_num()\n",
    "    c = get_num()\n",
    "    return a,b,c"
   ]
  },
  {
   "cell_type": "code",
   "execution_count": 4,
   "metadata": {},
   "outputs": [],
   "source": [
    "def check_3_pts(a,b,c,r=0.2):\n",
    "    d1=abs(a-b)\n",
    "    d2=abs(c-b)\n",
    "    d3=abs(a-c)\n",
    "    if d1<=r and d2<=r:\n",
    "        return True\n",
    "    if d1<=r and d3<=r:\n",
    "        return True\n",
    "    if d2<=r and d3<=r:\n",
    "        return True\n",
    "    return False"
   ]
  },
  {
   "cell_type": "code",
   "execution_count": 5,
   "metadata": {},
   "outputs": [],
   "source": [
    "def simulation(r=0.2, iters=1000):\n",
    "    tot=0\n",
    "    for _ in range(iters):\n",
    "        a,b,c = get_3_pts()\n",
    "        conn=check_3_pts(a,b,c,r)\n",
    "        if conn:\n",
    "            tot+=1\n",
    "    return(tot/iters)"
   ]
  },
  {
   "cell_type": "code",
   "execution_count": 6,
   "metadata": {},
   "outputs": [],
   "source": [
    "def manual_3_pts(r=0.2):\n",
    "    if r<0.5:\n",
    "        return 6*((r**2) - (r**3))\n",
    "    return 2*(r**3)-6*(r**2)+6*r-1"
   ]
  },
  {
   "cell_type": "code",
   "execution_count": 21,
   "metadata": {},
   "outputs": [],
   "source": [
    "pred=[]\n",
    "actual=[]\n",
    "for r in range(100):\n",
    "    actual.append(simulation(r/100, 10000))\n",
    "    pred.append(manual_3_pts(r/100))"
   ]
  },
  {
   "cell_type": "code",
   "execution_count": 22,
   "metadata": {},
   "outputs": [
    {
     "data": {
      "text/plain": [
       "[<matplotlib.lines.Line2D at 0x28170561be0>]"
      ]
     },
     "execution_count": 22,
     "metadata": {},
     "output_type": "execute_result"
    },
    {
     "data": {
      "image/png": "[encoded data removed]",
      "text/plain": [
       "<Figure size 432x288 with 1 Axes>"
      ]
     },
     "metadata": {
      "needs_background": "light"
     },
     "output_type": "display_data"
    }
   ],
   "source": [
    "plt.plot(actual)\n",
    "plt.plot(pred)"
   ]
  }
 ],
 "metadata": {
  "kernelspec": {
   "display_name": "venv01",
   "language": "python",
   "name": "venv01"
  },
  "language_info": {
   "codemirror_mode": {
    "name": "ipython",
    "version": 3
   },
   "file_extension": ".py",
   "mimetype": "text/x-python",
   "name": "python",
   "nbconvert_exporter": "python",
   "pygments_lexer": "ipython3",
   "version": "3.8.2"
  }
 },
 "nbformat": 4,
 "nbformat_minor": 4
}
