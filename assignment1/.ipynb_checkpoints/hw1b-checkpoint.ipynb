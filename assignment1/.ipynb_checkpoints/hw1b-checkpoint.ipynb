{
 "cells": [
  {
   "cell_type": "code",
   "execution_count": 1,
   "metadata": {},
   "outputs": [],
   "source": [
    "# kohli will assume that the probability of heads coming up is 0.5\n",
    "# as he believes that the coin is fair"
   ]
  },
  {
   "cell_type": "code",
   "execution_count": 5,
   "metadata": {},
   "outputs": [],
   "source": [
    "using StatsBase\n",
    "using Statistics\n",
    "using Plots"
   ]
  },
  {
   "cell_type": "code",
   "execution_count": 39,
   "metadata": {},
   "outputs": [],
   "source": [
    "data=[[], [], [], []]\n",
    "for i in 1:4\n",
    "    open(\"Assignment 1/hw1b\"*string(i)*\".txt\") do f\n",
    "        data1=[]\n",
    "        while !eof(f)\n",
    "            push!(data[i],parse(Bool,readline(f)))\n",
    "        end\n",
    "    end\n",
    "end"
   ]
  },
  {
   "cell_type": "code",
   "execution_count": 44,
   "metadata": {},
   "outputs": [
    {
     "data": {
      "text/plain": [
       "4-element Array{Array{UInt8,N} where N,1}:\n",
       " [0x00, 0x00, 0x01, 0x00, 0x01, 0x01, 0x01, 0x00, 0x00, 0x00  …  0x00, 0x00, 0x01, 0x00, 0x00, 0x01, 0x00, 0x00, 0x00, 0x00]\n",
       " [0x01, 0x01, 0x00, 0x01, 0x01, 0x01, 0x01, 0x00, 0x00, 0x00  …  0x00, 0x01, 0x01, 0x01, 0x01, 0x01, 0x00, 0x00, 0x00, 0x01]\n",
       " [0x00, 0x01, 0x00, 0x01, 0x01, 0x00, 0x01, 0x00, 0x00, 0x01  …  0x01, 0x00, 0x01, 0x01, 0x01, 0x01, 0x01, 0x00, 0x00, 0x00]\n",
       " [0x01, 0x00, 0x01, 0x01, 0x00, 0x00, 0x00, 0x01, 0x01, 0x01  …  0x00, 0x01, 0x00, 0x01, 0x00, 0x01, 0x00, 0x01, 0x00, 0x00]"
      ]
     },
     "execution_count": 44,
     "metadata": {},
     "output_type": "execute_result"
    }
   ],
   "source": [
    "data=convert(Array{Array{UInt8}}, data)"
   ]
  },
  {
   "cell_type": "code",
   "execution_count": 51,
   "metadata": {},
   "outputs": [],
   "source": [
    "mean_data=[[],[],[],[]]\n",
    "for i in 1:length(data)\n",
    "    for j in 1:length(data[i])\n",
    "        push!(mean_data[i],mean(data[i][1:j]))\n",
    "    end\n",
    "end"
   ]
  },
  {
   "cell_type": "code",
   "execution_count": 57,
   "metadata": {},
   "outputs": [
    {
     "name": "stdout",
     "output_type": "stream",
     "text": [
      "data_set: 1\n",
      "0.3360360849826665\n",
      "0.07090224304322769\n",
      "data_set: 2\n",
      "0.6341265434010473\n",
      "0.08015108601301339\n",
      "data_set: 3\n",
      "0.47787027908898744\n",
      "0.05800611881255101\n",
      "data_set: 4\n",
      "0.5103609979646283\n",
      "0.08401961673015504\n"
     ]
    }
   ],
   "source": [
    "for i in 1:length(mean_data)\n",
    "    println(\"data_set: \"*string(i))\n",
    "    println(mean(mean_data[i]))\n",
    "    println(std(mean_data[i]))\n",
    "end"
   ]
  },
  {
   "cell_type": "code",
   "execution_count": 59,
   "metadata": {},
   "outputs": [],
   "source": [
    "# 1 biased towards tails\n",
    "# 2 biased towards heads\n",
    "# others almost neutral"
   ]
  },
  {
   "cell_type": "code",
   "execution_count": null,
   "metadata": {},
   "outputs": [],
   "source": []
  }
 ],
 "metadata": {
  "kernelspec": {
   "display_name": "Julia 1.5.0",
   "language": "julia",
   "name": "julia-1.5"
  },
  "language_info": {
   "file_extension": ".jl",
   "mimetype": "application/julia",
   "name": "julia",
   "version": "1.5.0"
  }
 },
 "nbformat": 4,
 "nbformat_minor": 4
}
