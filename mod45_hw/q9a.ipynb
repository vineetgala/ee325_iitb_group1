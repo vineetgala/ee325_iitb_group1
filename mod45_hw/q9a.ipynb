{
 "cells": [
  {
   "cell_type": "code",
   "execution_count": null,
   "metadata": {},
   "outputs": [],
   "source": [
    "import numpy as np\n",
    "import matplotlib.pyplot as plt"
   ]
  },
  {
   "cell_type": "code",
   "execution_count": null,
   "metadata": {},
   "outputs": [],
   "source": [
    "p1 = np.array([0.2, 0.4, 0.7])\n",
    "p2 = np.array([0.45, 0.5, 0.58])\n",
    "n_vals = np.array([20, 100, 1000, 5000])"
   ]
  },
  {
   "cell_type": "code",
   "execution_count": null,
   "metadata": {},
   "outputs": [],
   "source": [
    "def simulate_tosses(num_tosses, p_head, num_reps=1000):\n",
    "    vals = np.random.choice([0, 1], size=(num_reps, num_tosses), p=[1-p_head, p_head])\n",
    "    return np.sum(vals, axis=1)"
   ]
  },
  {
   "cell_type": "code",
   "execution_count": null,
   "metadata": {},
   "outputs": [],
   "source": [
    "def choose_coin_1(p_vals, n1, n, num_reps=1000):\n",
    "    num_tosses = n1//3\n",
    "    num_heads = np.zeros((num_reps, len(p_vals)))\n",
    "    for i, p in enumerate(p_vals):\n",
    "        num_heads[:, i] = simulate_tosses(num_tosses, p, num_reps)\n",
    "    coin_chosen = np.argmax(num_heads, axis=1)\n",
    "    correct_coin = np.argmax(p_vals)\n",
    "    r_vals = np.sum(num_heads, axis=1) + p_vals[coin_chosen]*(n-n1)\n",
    "    return num_heads, coin_chosen, correct_coin, r_vals"
   ]
  },
  {
   "cell_type": "code",
   "execution_count": null,
   "metadata": {},
   "outputs": [],
   "source": [
    "def algo1(p_vals, n, num_reps=1000):\n",
    "    correct_choice_hist = []\n",
    "    sample_r_hist=[]\n",
    "    for n1 in range(3, n):\n",
    "        _, chosen, correct, r_vals = choose_coin_1(p_vals, n1, n)\n",
    "        correct_choice_hist.append(np.sum(chosen==correct))\n",
    "        sample_r_hist.append(np.mean(r_vals))\n",
    "    return correct_choice_hist, sample_r_hist"
   ]
  },
  {
   "cell_type": "code",
   "execution_count": null,
   "metadata": {},
   "outputs": [],
   "source": [
    "srh1_list=[]\n",
    "srh2_list=[]\n",
    "n1_max1_list=[]\n",
    "n1_max2_list=[]\n",
    "cc1=[]\n",
    "cc2=[]\n",
    "for n in n_vals:\n",
    "    cch1, srh1 = algo1(p1, n)\n",
    "    cch2, srh2 = algo1(p2, n)\n",
    "    n1_max1 = np.argmax(srh1)\n",
    "    n1_max2 = np.argmax(srh2)\n",
    "    srh1_list.append(srh1)\n",
    "    srh2_list.append(srh2)\n",
    "    n1_max1_list.append(n1_max1+3)\n",
    "    n1_max2_list.append(n1_max2+3)\n",
    "    cc1.append(cch1[n1_max1])\n",
    "    cc2.append(cch2[n1_max2])"
   ]
  },
  {
   "cell_type": "code",
   "execution_count": null,
   "metadata": {},
   "outputs": [],
   "source": [
    "# p1\n",
    "for i, n in enumerate(n_vals):\n",
    "    plt.plot(range(3, n), srh1_list[i])\n",
    "    plt.title(\"n=\"+str(n)+\", n1_max=\"+str(n1_max1_list[i]))\n",
    "    plt.savefig(\"set1_n_\"+str(n))\n",
    "    plt.show()\n",
    "    print(\"Out of 1000 reps, the correct coin was chosen\", cc1[i], \"times\")"
   ]
  },
  {
   "cell_type": "code",
   "execution_count": null,
   "metadata": {},
   "outputs": [],
   "source": [
    "# p2\n",
    "for i, n in enumerate(n_vals):\n",
    "    plt.plot(range(3, n), srh2_list[i])\n",
    "    plt.title(\"n=\"+str(n)+\", n1_max=\"+str(n1_max2_list[i]))\n",
    "    plt.savefig(\"set2_n_\"+str(n))\n",
    "    plt.show()\n",
    "    print(\"Out of 1000 reps, the correct coin was chosen\", cc2[i], \"times\")"
   ]
  },
  {
   "cell_type": "code",
   "execution_count": null,
   "metadata": {},
   "outputs": [],
   "source": []
  }
 ],
 "metadata": {
  "kernelspec": {
   "display_name": "venv01",
   "language": "python",
   "name": "venv01"
  },
  "language_info": {
   "codemirror_mode": {
    "name": "ipython",
    "version": 3
   },
   "file_extension": ".py",
   "mimetype": "text/x-python",
   "name": "python",
   "nbconvert_exporter": "python",
   "pygments_lexer": "ipython3",
   "version": "3.8.2"
  }
 },
 "nbformat": 4,
 "nbformat_minor": 4
}
