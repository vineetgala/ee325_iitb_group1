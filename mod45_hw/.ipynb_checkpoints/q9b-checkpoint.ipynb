{
 "cells": [
  {
   "cell_type": "code",
   "execution_count": 1,
   "metadata": {},
   "outputs": [],
   "source": [
    "import numpy as np\n",
    "import matplotlib.pyplot as plt"
   ]
  },
  {
   "cell_type": "code",
   "execution_count": 2,
   "metadata": {},
   "outputs": [],
   "source": [
    "alpha_vals = np.array([0.1, 0.05, 0.01])\n",
    "p1=np.array([0.2, 0.4, 0.7])\n",
    "p2=np.array([0.45, 0.5, 0.58])\n",
    "n_vals=np.array([20, 100, 1000, 5000])"
   ]
  },
  {
   "cell_type": "code",
   "execution_count": 49,
   "metadata": {},
   "outputs": [],
   "source": [
    "def ub(num_tosses, num_heads, alpha):\n",
    "    exp = np.log(alpha)\n",
    "    exp = -exp\n",
    "    exp = exp/(2*num_tosses)\n",
    "    y0 = np.sqrt(exp)\n",
    "    return num_heads/num_tosses + y0"
   ]
  },
  {
   "cell_type": "code",
   "execution_count": 51,
   "metadata": {},
   "outputs": [],
   "source": [
    "def choose_coin(ubs):\n",
    "    return np.random.choice(np.flatnonzero(ubs == ubs.max()))"
   ]
  },
  {
   "cell_type": "code",
   "execution_count": 76,
   "metadata": {},
   "outputs": [],
   "source": [
    "def simulation(p_vals, n, alpha):\n",
    "    ubs=np.ones(3)\n",
    "    num_heads=np.zeros(3)\n",
    "    num_tosses=np.zeros(3)\n",
    "    for i in range(n):\n",
    "        c = choose_coin(ubs)\n",
    "        num_heads[c] += np.random.choice([0, 1], p=[1-p_vals[c], p_vals[c]])\n",
    "        num_tosses[c]+=1\n",
    "        ubs = ub(num_tosses, num_heads, alpha)\n",
    "        ubs[np.isnan(ubs)]=1\n",
    "    return ubs, num_heads, num_tosses"
   ]
  },
  {
   "cell_type": "code",
   "execution_count": 86,
   "metadata": {},
   "outputs": [],
   "source": [
    "def run(iters=100):\n",
    "    for n in n_vals:\n",
    "        for alpha in alpha_vals:\n",
    "            meanh1=0\n",
    "            meanh2=0\n",
    "            meant1=0\n",
    "            meant2=0\n",
    "            for _ in range(iters):\n",
    "                ubs1, nh1, nt1 = simulation(p1, n, alpha)\n",
    "                ubs2, nh2, nt2 = simulation(p2, n, alpha)\n",
    "                meanh1+=nh1.sum()\n",
    "                meanh2+=nh2.sum()\n",
    "                meant1+=nt1[2]\n",
    "                meant2+=nt2[2]\n",
    "            print(n, alpha, meanh1/iters, meanh2/iters, meant1/iters, meant2/iters)"
   ]
  },
  {
   "cell_type": "code",
   "execution_count": 87,
   "metadata": {},
   "outputs": [
    {
     "name": "stderr",
     "output_type": "stream",
     "text": [
      "<ipython-input-49-1a7933f922dc>:4: RuntimeWarning: divide by zero encountered in true_divide\n",
      "  exp = exp/(2*num_tosses)\n",
      "<ipython-input-49-1a7933f922dc>:6: RuntimeWarning: invalid value encountered in true_divide\n",
      "  return num_heads/num_tosses + y0\n"
     ]
    },
    {
     "name": "stdout",
     "output_type": "stream",
     "text": [
      "20 0.1 12.1 10.6 14.8 10.0\n",
      "20 0.05 11.9 9.3 14.8 6.3\n",
      "20 0.01 11.1 11.3 13.4 5.4\n",
      "100 0.1 66.4 51.3 88.9 53.0\n",
      "100 0.05 64.6 54.2 80.8 60.5\n",
      "100 0.01 64.0 54.6 84.0 58.9\n",
      "1000 0.1 685.5 560.7 983.4 800.5\n",
      "1000 0.05 698.9 558.3 985.9 828.6\n",
      "1000 0.01 695.7 551.9 977.7 739.3\n",
      "5000 0.1 3480.7 2844.3 4983.0 4158.3\n",
      "5000 0.05 3472.9 2854.5 4962.9 4314.0\n",
      "5000 0.01 3507.9 2871.1 4963.4 4682.7\n"
     ]
    }
   ],
   "source": [
    "run(10)"
   ]
  },
  {
   "cell_type": "code",
   "execution_count": null,
   "metadata": {},
   "outputs": [],
   "source": []
  }
 ],
 "metadata": {
  "kernelspec": {
   "display_name": "venv01",
   "language": "python",
   "name": "venv01"
  },
  "language_info": {
   "codemirror_mode": {
    "name": "ipython",
    "version": 3
   },
   "file_extension": ".py",
   "mimetype": "text/x-python",
   "name": "python",
   "nbconvert_exporter": "python",
   "pygments_lexer": "ipython3",
   "version": "3.8.2"
  }
 },
 "nbformat": 4,
 "nbformat_minor": 4
}
